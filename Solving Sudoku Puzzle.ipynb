{
 "cells": [
  {
   "cell_type": "markdown",
   "id": "d1ff3d21",
   "metadata": {},
   "source": [
    "## Solving Sudoku Puzzle"
   ]
  },
  {
   "cell_type": "code",
   "execution_count": 1,
   "id": "d9897263",
   "metadata": {},
   "outputs": [],
   "source": [
    "import numpy as np\n",
    "import itertools"
   ]
  },
  {
   "cell_type": "markdown",
   "id": "172b3c2c",
   "metadata": {},
   "source": [
    "A sudoku is made of $3 \\text{ blocks by } 3 \\text{ blocks}$ and each block is a $3 \\times 3$ squares.\n",
    "\n",
    "\n",
    "$$\\begin{array}{|c|c|c|}\n",
    "\\hline\n",
    "\\text{B1}&\\text{B2}&\\text{B3}\\\\\n",
    "\\hline\n",
    "\\text{B4}&\\text{B5}&\\text{B6}\\\\\n",
    "\\hline\n",
    "\\text{B7}&\\text{B8}&\\text{B9}\\\\\n",
    "\\hline\n",
    "\\end{array}$$\n",
    "\n",
    "\n",
    "In a sudoku, each row has $9$ squares and each column has $9$ squares.\n",
    "\n",
    "\n",
    "We requires to assign a number in $\\{1,2,3,4,5,6,7,8,9\\}$ to each square in the puzzle such that each row, each column and each block consist of an arrangements of $\\{1,2,3,4,5,6,7,8,9\\}$."
   ]
  },
  {
   "cell_type": "markdown",
   "id": "94fcd18e",
   "metadata": {},
   "source": [
    "The function extract_a_board accepts a row name, a column name or a Block name and obtain its numbers on the puzzle."
   ]
  },
  {
   "cell_type": "code",
   "execution_count": 2,
   "id": "85684e79",
   "metadata": {},
   "outputs": [],
   "source": [
    "#C - Column\n",
    "#R - Row\n",
    "#B - Block\n",
    "def extract_a_board(a,type):\n",
    "    if type[0]=='C':\n",
    "        i = int(type[1])\n",
    "        return a[:,i-1]\n",
    "    elif type[0]=='R':\n",
    "        i = int(type[1])\n",
    "        return a[i-1,:]\n",
    "    elif type[0]=='B':\n",
    "        i = int(type[1])\n",
    "        if i == 1:\n",
    "            return a[0:3,0:3]\n",
    "        elif i == 2:\n",
    "            return a[0:3,3:6]\n",
    "        elif i == 3:\n",
    "            return a[0:3,6:9]\n",
    "        elif i == 4:\n",
    "            return a[3:6,0:3]\n",
    "        elif i == 5:\n",
    "            return a[3:6,3:6]\n",
    "        elif i == 6:\n",
    "            return a[3:6,6:9]\n",
    "        elif i == 7:\n",
    "            return a[6:9,0:3]\n",
    "        elif i == 8:\n",
    "            return a[6:9,3:6]\n",
    "        elif i == 9:\n",
    "            return a[6:9,6:9]\n",
    "        else:\n",
    "            return 'Error'\n",
    "    else:\n",
    "        return 'Error'"
   ]
  },
  {
   "cell_type": "markdown",
   "id": "28c4367a",
   "metadata": {},
   "source": [
    "Given a position $(i,j)$, obtain its row, column and block symbol."
   ]
  },
  {
   "cell_type": "code",
   "execution_count": 3,
   "id": "0634707a",
   "metadata": {},
   "outputs": [],
   "source": [
    "def locator(i,j):\n",
    "    a = i//3\n",
    "    b = j//3\n",
    "    return f'R{i+1}',f'C{j+1}',f'B{3*a+b+1}'"
   ]
  },
  {
   "cell_type": "markdown",
   "id": "9c59a6b3",
   "metadata": {},
   "source": [
    "Given a row name, a column name or a Block name, obtain its coordinates."
   ]
  },
  {
   "cell_type": "code",
   "execution_count": 4,
   "id": "38997dec",
   "metadata": {},
   "outputs": [],
   "source": [
    "def extract_coors(type):\n",
    "    if type[0]=='C':\n",
    "        i = int(type[1])\n",
    "        return [(x,i-1) for x in range(9)]\n",
    "    elif type[0]=='R':\n",
    "        i = int(type[1])\n",
    "        return [(i-1,x) for x in range(9)]\n",
    "    elif type[0]=='B':\n",
    "        i = int(type[1])\n",
    "        if i == 1:\n",
    "            e = []\n",
    "            for u in range(3):\n",
    "                for v in range(3):\n",
    "                    e.append((u,v))\n",
    "            return e\n",
    "        elif i == 2:\n",
    "            e = []\n",
    "            for u in range(3):\n",
    "                for v in range(3,6):\n",
    "                    e.append((u,v))\n",
    "            return e\n",
    "        elif i == 3:\n",
    "            e = []\n",
    "            for u in range(3):\n",
    "                for v in range(6,9):\n",
    "                    e.append((u,v))\n",
    "            return e\n",
    "        elif i == 4:\n",
    "            e = []\n",
    "            for u in range(3,6):\n",
    "                for v in range(3):\n",
    "                    e.append((u,v))\n",
    "            return e\n",
    "        elif i == 5:\n",
    "            e = []\n",
    "            for u in range(3,6):\n",
    "                for v in range(3,6):\n",
    "                    e.append((u,v))\n",
    "            return e\n",
    "        elif i == 6:\n",
    "            e = []\n",
    "            for u in range(3,6):\n",
    "                for v in range(6,9):\n",
    "                    e.append((u,v))\n",
    "            return e\n",
    "        elif i == 7:\n",
    "            e = []\n",
    "            for u in range(6,9):\n",
    "                for v in range(3):\n",
    "                    e.append((u,v))\n",
    "            return e\n",
    "        elif i == 8:\n",
    "            e = []\n",
    "            for u in range(6,9):\n",
    "                for v in range(3,6):\n",
    "                    e.append((u,v))\n",
    "            return e\n",
    "        elif i == 9:\n",
    "            e = []\n",
    "            for u in range(6,9):\n",
    "                for v in range(6,9):\n",
    "                    e.append((u,v))\n",
    "            return e\n",
    "        else:\n",
    "            return 'Error'\n",
    "    else:\n",
    "        return 'Error'"
   ]
  },
  {
   "cell_type": "markdown",
   "id": "88db5200",
   "metadata": {},
   "source": [
    "For a given position $(i,j)$, we obtain its row, column and block on the puzzle. The numbers that are not on its row, column and block are available for arrangements."
   ]
  },
  {
   "cell_type": "code",
   "execution_count": 5,
   "id": "032fae5f",
   "metadata": {},
   "outputs": [],
   "source": [
    "def loc_available(i,j,a_board):\n",
    "    a,b,c = locator(i,j)\n",
    "    A = [1,2,3,4,5,6,7,8,9]\n",
    "    U1 = [x for x in A if x not in extract_a_board(a_board,a).reshape(-1)]\n",
    "    U2 = [x for x in A if x not in extract_a_board(a_board,b).reshape(-1)]\n",
    "    U3 = [x for x in A if x not in extract_a_board(a_board,c).reshape(-1)]\n",
    "    return np.intersect1d(np.intersect1d(U1,U2),U3)"
   ]
  },
  {
   "cell_type": "markdown",
   "id": "5876c72e",
   "metadata": {},
   "source": [
    "For each integer $i$ in $\\{1,2,3,4,5,6,7,8,9\\}$, we find coordinates of rows, columns and blocks that contain $i$."
   ]
  },
  {
   "cell_type": "code",
   "execution_count": 6,
   "id": "9acf1426",
   "metadata": {},
   "outputs": [],
   "source": [
    "def covered_coors(i,abd):\n",
    "    a,b = np.where(abd==i)\n",
    "    pos = [(x,y) for x,y in zip(a,b)]\n",
    "    cc = []\n",
    "    for x,y in pos:\n",
    "        u,v,z = locator(x,y)\n",
    "        U = extract_coors(u)\n",
    "        V = extract_coors(v)\n",
    "        Z = extract_coors(z)\n",
    "        cc.extend(list(set().union(*[U,V,Z])))\n",
    "    cc = list(set(cc))\n",
    "    cc.sort(key=lambda x: (x[0],x[1]))\n",
    "    return cc"
   ]
  },
  {
   "cell_type": "code",
   "execution_count": 7,
   "id": "ae55cee6",
   "metadata": {},
   "outputs": [],
   "source": [
    "def uncovered_coors_in_block(type,i,bd):\n",
    "    coors = covered_coors(i,bd)\n",
    "    pcoors = [x for x in extract_coors(type) if x not in coors]\n",
    "    pcoors = [x for x in pcoors if bd[x] == 0]\n",
    "    return pcoors"
   ]
  },
  {
   "cell_type": "code",
   "execution_count": 8,
   "id": "7d469247",
   "metadata": {},
   "outputs": [],
   "source": [
    "def check_a_board(a_board):\n",
    "    s = 0\n",
    "    for i in range(9):\n",
    "        if len(set(x for x in a_board[i,:] if x > 0)) < 9:\n",
    "            s=1\n",
    "    if s==0:\n",
    "        for i in range(9):\n",
    "            if len(set(x for x in a_board[:,i] if x > 0)) < 9:\n",
    "                s=1\n",
    "    if s==0:\n",
    "        for i in range(1,10):\n",
    "            t = f'B{i}'\n",
    "            tc = extract_coors(t)\n",
    "            if len(set(a_board[x] for x in tc if a_board[x] > 0)) < 9:\n",
    "                s=1\n",
    "    if s==0:\n",
    "        return True\n",
    "    else:\n",
    "        return False"
   ]
  },
  {
   "cell_type": "code",
   "execution_count": 9,
   "id": "cdff89d8",
   "metadata": {},
   "outputs": [],
   "source": [
    "def solve(a_board):\n",
    "    old_board = a_board.copy()\n",
    "    stop = 0\n",
    "    while stop==0:\n",
    "        anum = {}\n",
    "        new_board = old_board.copy()\n",
    "        for i in range(9):\n",
    "            for j in range(9):\n",
    "                if new_board[i,j] == 0:\n",
    "                    anum[(i,j)] = loc_available(i,j,new_board)\n",
    "                else:\n",
    "                    anum[(i,j)] = np.array([new_board[i,j]])\n",
    "        for (i,j),k in anum.items():\n",
    "            if len(k)==1:\n",
    "                new_board[i,j] = k[0]\n",
    "        if (new_board == old_board).all():\n",
    "            stop = 1\n",
    "        else:\n",
    "            old_board = new_board.copy()\n",
    "    stp = 0\n",
    "    it = 0\n",
    "    while stp==0:\n",
    "        uncovered_coors = {}\n",
    "        for i in range(1,10):\n",
    "            ui = {}\n",
    "            for k in range(1,10):\n",
    "                ui[f'B{k}'] = uncovered_coors_in_block(f'B{k}',i,new_board)\n",
    "            uncovered_coors[i] = ui\n",
    "        for i in range(1,10):\n",
    "            s = uncovered_coors[i]\n",
    "            for k in range(1,10):\n",
    "                if len(s[f'B{k}'])==1:\n",
    "                    if new_board[s[f'B{k}'][0]] == 0:\n",
    "                        new_board[s[f'B{k}'][0]] = i\n",
    "        old_board = new_board.copy()\n",
    "        stop = 0\n",
    "        while stop==0:\n",
    "            anum = {}\n",
    "            new_board = old_board.copy()\n",
    "            for i in range(9):\n",
    "                for j in range(9):\n",
    "                    if new_board[i,j] == 0:\n",
    "                        anum[(i,j)] = loc_available(i,j,new_board)\n",
    "                    else:\n",
    "                        anum[(i,j)] = np.array([new_board[i,j]])\n",
    "            for (i,j),k in anum.items():\n",
    "                if len(k)==1:\n",
    "                    if new_board[i,j] == 0:\n",
    "                        new_board[i,j] = k[0]\n",
    "            if (new_board == old_board).all():\n",
    "                stop = 1\n",
    "            else:\n",
    "                old_board = new_board.copy()\n",
    "        if (new_board > 0).all():\n",
    "            stp=1\n",
    "        elif it > 100:\n",
    "            stp=1\n",
    "        else:\n",
    "            it = it+1\n",
    "    return new_board"
   ]
  },
  {
   "cell_type": "code",
   "execution_count": 10,
   "id": "82e6ac70",
   "metadata": {},
   "outputs": [],
   "source": [
    "def find_match_block(abd):\n",
    "    uncovered_coors = {}\n",
    "    for i in range(1,10):\n",
    "        ui = {}\n",
    "        for k in range(1,10):\n",
    "            ui[f'B{k}'] = uncovered_coors_in_block(f'B{k}',i,abd)\n",
    "        uncovered_coors[i] = ui\n",
    "    st = {}\n",
    "    for r in range(2,5):\n",
    "        st[r] = []\n",
    "        comb2 = list(itertools.combinations([1,2,3,4,5,6,7,8,9], r))\n",
    "        for u in comb2:\n",
    "            s = []\n",
    "            for x in list(uncovered_coors[u[0]].items()):\n",
    "                p=0\n",
    "                for j in range(1,len(u)):\n",
    "                    if x not in list(uncovered_coors[u[j]].items()):\n",
    "                        p=1\n",
    "                if p==0:\n",
    "                    if len(x[1])>0:\n",
    "                        s.append((u,x))\n",
    "            if len(s) > 0:\n",
    "                for u,(x,y) in s:\n",
    "                    if len(y)==r:\n",
    "                        st[r].append((u,x,y))\n",
    "    return st"
   ]
  },
  {
   "cell_type": "code",
   "execution_count": 11,
   "id": "1b083e74",
   "metadata": {},
   "outputs": [],
   "source": [
    "def solve_sudoku(a_board):\n",
    "    asboard = solve(a_board)\n",
    "    if (asboard>0).all() and check_a_board(asboard):\n",
    "        return asboard\n",
    "    else:\n",
    "        s = find_match_block(asboard)[2]\n",
    "        cb = []\n",
    "        for u,v,w in s:\n",
    "            if len(cb)==0:\n",
    "                cb.append([(u[0],w[0]),(u[1],w[1])])\n",
    "                cb.append([(u[1],w[0]),(u[0],w[1])])\n",
    "            else:\n",
    "                cb2 = []\n",
    "                for x in cb:\n",
    "                    y = x.copy()\n",
    "                    y.extend([(u[0],w[0]),(u[1],w[1])])\n",
    "                    cb2.append(y)\n",
    "                    y = x.copy()\n",
    "                    y.extend([(u[1],w[0]),(u[0],w[1])])\n",
    "                    cb2.append(y)\n",
    "                cb = cb2.copy()\n",
    "        stop = 0\n",
    "        it = 0\n",
    "        sp = 0\n",
    "        while stop==0:\n",
    "            if len(cb)>0:\n",
    "                ait = cb[it]\n",
    "                abd = asboard.copy()\n",
    "                for u,v in ait:\n",
    "                    abd[v] = u\n",
    "                sabd = solve(abd)\n",
    "                if (sabd > 0).all():\n",
    "                    if check_a_board(sabd):\n",
    "                        stop=1\n",
    "                        sp=1\n",
    "                it=it+1\n",
    "                if it >= len(cb):\n",
    "                    stop=1\n",
    "            if sp==1:\n",
    "                return sabd\n",
    "            else:\n",
    "                return 'Solution is not found.'\n",
    "        else:\n",
    "            return 'Solution is not found.'"
   ]
  },
  {
   "cell_type": "code",
   "execution_count": 12,
   "id": "96d06408",
   "metadata": {},
   "outputs": [],
   "source": [
    "a_board = np.array([[0,0,0,0,0,8,0,0,0],\n",
    "                    [8,3,5,0,0,6,0,0,7],\n",
    "                    [0,1,6,0,0,9,0,0,3],\n",
    "                    [0,2,0,4,0,0,0,0,6],\n",
    "                    [0,6,9,0,0,7,0,0,2],\n",
    "                    [0,0,0,0,3,0,0,9,0],\n",
    "                    [0,0,7,0,0,0,4,0,0],\n",
    "                    [0,0,3,5,0,4,2,0,0],\n",
    "                    [6,9,4,0,7,0,0,3,0]])"
   ]
  },
  {
   "cell_type": "code",
   "execution_count": 13,
   "id": "bc86da08",
   "metadata": {},
   "outputs": [
    {
     "data": {
      "text/plain": [
       "array([[9, 7, 2, 3, 5, 8, 6, 1, 4],\n",
       "       [8, 3, 5, 1, 4, 6, 9, 2, 7],\n",
       "       [4, 1, 6, 7, 2, 9, 8, 5, 3],\n",
       "       [3, 2, 1, 4, 9, 5, 7, 8, 6],\n",
       "       [5, 6, 9, 8, 1, 7, 3, 4, 2],\n",
       "       [7, 4, 8, 6, 3, 2, 1, 9, 5],\n",
       "       [2, 5, 7, 9, 8, 3, 4, 6, 1],\n",
       "       [1, 8, 3, 5, 6, 4, 2, 7, 9],\n",
       "       [6, 9, 4, 2, 7, 1, 5, 3, 8]])"
      ]
     },
     "execution_count": 13,
     "metadata": {},
     "output_type": "execute_result"
    }
   ],
   "source": [
    "solve_sudoku(a_board)"
   ]
  },
  {
   "cell_type": "code",
   "execution_count": 14,
   "id": "edbfab21",
   "metadata": {},
   "outputs": [],
   "source": [
    "a_board = np.array([[7,0,0,1,0,0,0,0,9],\n",
    "                    [0,0,6,0,0,0,3,8,4],\n",
    "                    [9,5,4,0,0,6,1,0,0],\n",
    "                    [1,3,0,0,0,0,0,0,0],\n",
    "                    [0,0,2,7,0,0,0,0,0],\n",
    "                    [0,0,0,0,0,0,9,7,0],\n",
    "                    [0,0,0,0,0,1,8,6,0],\n",
    "                    [8,7,0,0,6,9,0,3,0],\n",
    "                    [0,0,1,3,0,8,0,0,2]])"
   ]
  },
  {
   "cell_type": "code",
   "execution_count": 15,
   "id": "9c78280c",
   "metadata": {},
   "outputs": [
    {
     "data": {
      "text/plain": [
       "array([[7, 8, 3, 1, 2, 4, 6, 5, 9],\n",
       "       [2, 1, 6, 5, 9, 7, 3, 8, 4],\n",
       "       [9, 5, 4, 8, 3, 6, 1, 2, 7],\n",
       "       [1, 3, 7, 9, 8, 5, 2, 4, 6],\n",
       "       [6, 9, 2, 7, 4, 3, 5, 1, 8],\n",
       "       [5, 4, 8, 6, 1, 2, 9, 7, 3],\n",
       "       [3, 2, 9, 4, 7, 1, 8, 6, 5],\n",
       "       [8, 7, 5, 2, 6, 9, 4, 3, 1],\n",
       "       [4, 6, 1, 3, 5, 8, 7, 9, 2]])"
      ]
     },
     "execution_count": 15,
     "metadata": {},
     "output_type": "execute_result"
    }
   ],
   "source": [
    "solve_sudoku(a_board)"
   ]
  },
  {
   "cell_type": "code",
   "execution_count": 16,
   "id": "68fb9d86",
   "metadata": {},
   "outputs": [],
   "source": [
    "a_board = np.array([[0,0,0,1,0,0,3,0,0],\n",
    "                    [0,0,3,2,0,7,1,9,5],\n",
    "                    [0,0,9,0,0,8,0,7,0],\n",
    "                    [0,0,0,5,0,0,2,0,1],\n",
    "                    [0,0,0,0,0,0,0,5,0],\n",
    "                    [0,0,0,3,1,2,0,0,8],\n",
    "                    [0,5,0,0,0,0,0,0,0],\n",
    "                    [0,0,0,9,4,0,0,0,0],\n",
    "                    [0,4,0,7,8,3,0,0,9]])"
   ]
  },
  {
   "cell_type": "code",
   "execution_count": 17,
   "id": "1f4b61da",
   "metadata": {},
   "outputs": [
    {
     "data": {
      "text/plain": [
       "'Solution is not found.'"
      ]
     },
     "execution_count": 17,
     "metadata": {},
     "output_type": "execute_result"
    }
   ],
   "source": [
    "solve_sudoku(a_board)"
   ]
  },
  {
   "cell_type": "code",
   "execution_count": 18,
   "id": "fd8d8865",
   "metadata": {},
   "outputs": [],
   "source": [
    "a_board = np.array([[0,0,0,6,0,0,0,0,5],\n",
    "                    [0,0,0,0,5,0,6,8,4],\n",
    "                    [0,0,0,0,0,3,0,0,0],\n",
    "                    [0,2,3,0,0,4,0,6,7],\n",
    "                    [0,8,6,0,0,0,3,2,0],\n",
    "                    [0,5,0,3,0,0,4,0,0],\n",
    "                    [0,0,0,0,0,0,7,9,2],\n",
    "                    [0,3,7,0,2,0,8,5,0],\n",
    "                    [0,0,0,0,0,0,0,0,0]])"
   ]
  },
  {
   "cell_type": "code",
   "execution_count": 19,
   "id": "dc7a9ac5",
   "metadata": {},
   "outputs": [
    {
     "data": {
      "text/plain": [
       "'Solution is not found.'"
      ]
     },
     "execution_count": 19,
     "metadata": {},
     "output_type": "execute_result"
    }
   ],
   "source": [
    "solve_sudoku(a_board)"
   ]
  },
  {
   "cell_type": "code",
   "execution_count": 20,
   "id": "360e83b7",
   "metadata": {},
   "outputs": [],
   "source": [
    "a_board = np.array([[0,3,1,5,0,0,0,0,0],\n",
    "                    [0,7,0,0,9,0,2,0,0],\n",
    "                    [9,0,5,0,0,0,6,0,0],\n",
    "                    [7,0,0,2,0,0,0,0,9],\n",
    "                    [0,4,9,0,0,0,0,0,0],\n",
    "                    [3,0,0,0,0,4,5,0,0],\n",
    "                    [0,1,0,0,0,0,4,9,0],\n",
    "                    [0,9,4,6,0,5,7,0,0],\n",
    "                    [6,0,0,0,0,0,0,0,3]])"
   ]
  },
  {
   "cell_type": "code",
   "execution_count": 21,
   "id": "0fc5b696",
   "metadata": {},
   "outputs": [
    {
     "data": {
      "text/plain": [
       "array([[2, 3, 1, 5, 7, 6, 9, 8, 4],\n",
       "       [4, 7, 6, 3, 9, 8, 2, 1, 5],\n",
       "       [9, 8, 5, 4, 2, 1, 6, 3, 7],\n",
       "       [7, 5, 8, 2, 6, 3, 1, 4, 9],\n",
       "       [1, 4, 9, 8, 5, 7, 3, 6, 2],\n",
       "       [3, 6, 2, 9, 1, 4, 5, 7, 8],\n",
       "       [5, 1, 3, 7, 8, 2, 4, 9, 6],\n",
       "       [8, 9, 4, 6, 3, 5, 7, 2, 1],\n",
       "       [6, 2, 7, 1, 4, 9, 8, 5, 3]])"
      ]
     },
     "execution_count": 21,
     "metadata": {},
     "output_type": "execute_result"
    }
   ],
   "source": [
    "solve_sudoku(a_board)"
   ]
  },
  {
   "cell_type": "code",
   "execution_count": 22,
   "id": "fbc100db",
   "metadata": {},
   "outputs": [],
   "source": [
    "a_board = np.array([[0,0,0,7,0,0,2,0,8],\n",
    "                    [3,0,0,0,0,0,5,0,0],\n",
    "                    [9,5,0,0,0,0,0,0,0],\n",
    "                    [0,0,0,0,0,3,9,7,0],\n",
    "                    [0,9,0,4,0,7,0,5,0],\n",
    "                    [4,0,0,6,0,0,0,0,3],\n",
    "                    [7,8,0,0,1,0,4,0,5],\n",
    "                    [5,0,0,0,9,0,8,0,7],\n",
    "                    [0,1,0,0,0,0,0,0,0]])"
   ]
  },
  {
   "cell_type": "code",
   "execution_count": 23,
   "id": "d8909705",
   "metadata": {},
   "outputs": [
    {
     "data": {
      "text/plain": [
       "array([[6, 4, 1, 7, 3, 5, 2, 9, 8],\n",
       "       [3, 7, 8, 9, 6, 2, 5, 4, 1],\n",
       "       [9, 5, 2, 8, 4, 1, 7, 3, 6],\n",
       "       [8, 6, 5, 1, 2, 3, 9, 7, 4],\n",
       "       [1, 9, 3, 4, 8, 7, 6, 5, 2],\n",
       "       [4, 2, 7, 6, 5, 9, 1, 8, 3],\n",
       "       [7, 8, 9, 3, 1, 6, 4, 2, 5],\n",
       "       [5, 3, 6, 2, 9, 4, 8, 1, 7],\n",
       "       [2, 1, 4, 5, 7, 8, 3, 6, 9]])"
      ]
     },
     "execution_count": 23,
     "metadata": {},
     "output_type": "execute_result"
    }
   ],
   "source": [
    "solve_sudoku(a_board)"
   ]
  },
  {
   "cell_type": "code",
   "execution_count": 24,
   "id": "833cebef",
   "metadata": {},
   "outputs": [],
   "source": [
    "a_board = np.array([[0,0,5,8,7,1,0,4,0],\n",
    "                    [0,0,7,9,6,0,0,0,0],\n",
    "                    [0,0,0,0,0,5,0,0,0],\n",
    "                    [4,0,0,2,5,0,6,0,0],\n",
    "                    [0,8,6,0,9,0,1,0,0],\n",
    "                    [0,0,0,0,0,0,2,9,0],\n",
    "                    [5,0,0,0,0,0,0,0,0],\n",
    "                    [0,0,0,0,0,6,0,5,1],\n",
    "                    [0,6,8,0,2,0,7,0,0]])"
   ]
  },
  {
   "cell_type": "code",
   "execution_count": 25,
   "id": "ba5e20a9",
   "metadata": {},
   "outputs": [
    {
     "data": {
      "text/plain": [
       "array([[6, 9, 5, 8, 7, 1, 3, 4, 2],\n",
       "       [3, 4, 7, 9, 6, 2, 5, 1, 8],\n",
       "       [8, 2, 1, 3, 4, 5, 9, 6, 7],\n",
       "       [4, 1, 9, 2, 5, 7, 6, 8, 3],\n",
       "       [2, 8, 6, 4, 9, 3, 1, 7, 5],\n",
       "       [7, 5, 3, 6, 1, 8, 2, 9, 4],\n",
       "       [5, 7, 4, 1, 3, 9, 8, 2, 6],\n",
       "       [9, 3, 2, 7, 8, 6, 4, 5, 1],\n",
       "       [1, 6, 8, 5, 2, 4, 7, 3, 9]])"
      ]
     },
     "execution_count": 25,
     "metadata": {},
     "output_type": "execute_result"
    }
   ],
   "source": [
    "solve_sudoku(a_board)"
   ]
  },
  {
   "cell_type": "code",
   "execution_count": 26,
   "id": "e2657b86",
   "metadata": {},
   "outputs": [],
   "source": [
    "a_board = np.array([[2., 3., 5., 0., 6., 0., 0., 0., 4.],\n",
    "                    [1., 6., 8., 0., 0., 0., 0., 0., 0.],\n",
    "                    [4., 7., 9., 3., 0., 0., 8., 0., 0.],\n",
    "                    [0., 0., 2., 6., 1., 3., 0., 9., 0.],\n",
    "                    [0., 1., 0., 2., 4., 8., 0., 0., 6.],\n",
    "                    [3., 0., 0., 5., 7., 9., 4., 0., 0.],\n",
    "                    [7., 0., 0., 0., 3., 0., 6., 5., 9.],\n",
    "                    [0., 0., 0., 9., 0., 0., 3., 4., 7.],\n",
    "                    [0., 5., 0., 0., 0., 0., 2., 8., 1.]])"
   ]
  },
  {
   "cell_type": "code",
   "execution_count": 27,
   "id": "fbf7a3e7",
   "metadata": {},
   "outputs": [
    {
     "data": {
      "text/plain": [
       "'Solution is not found.'"
      ]
     },
     "execution_count": 27,
     "metadata": {},
     "output_type": "execute_result"
    }
   ],
   "source": [
    "solve_sudoku(a_board)"
   ]
  },
  {
   "cell_type": "markdown",
   "id": "46160cce",
   "metadata": {},
   "source": [
    "### Generating a new solvable Sudoku Puzzle"
   ]
  },
  {
   "cell_type": "code",
   "execution_count": 28,
   "id": "32ec74b3",
   "metadata": {},
   "outputs": [],
   "source": [
    "def fs():\n",
    "    SP = np.zeros((9,9))\n",
    "    B1 = (np.random.choice(9,size=9,replace=False)+1).reshape((3,3))\n",
    "    SP[:3,:3] = B1\n",
    "    B5 = (np.random.choice(9,size=9,replace=False)+1).reshape((3,3))\n",
    "    SP[3:6,3:6] = B5\n",
    "    B9 = (np.random.choice(9,size=9,replace=False)+1).reshape((3,3))\n",
    "    SP[6:9,6:9] = B9\n",
    "    return SP"
   ]
  },
  {
   "cell_type": "code",
   "execution_count": 33,
   "id": "4664e5d5",
   "metadata": {},
   "outputs": [],
   "source": [
    "def gen_a_board(nr_of_visibles):\n",
    "    stp = 0\n",
    "    while stp==0:\n",
    "        print(stp)\n",
    "        combs = []\n",
    "        for i in range(9):\n",
    "            for j in range(9):\n",
    "                combs.append((i,j))\n",
    "        A = [1,2,3,4,5,6,7,8,9]\n",
    "        #Generate a board with diagonal blocks entries\n",
    "        #entries in each diagonal block are random digits from A\n",
    "        #rdict contains the list of allowable digits for every positions\n",
    "        SP = fs()\n",
    "        rdict = {}\n",
    "        for i,j in combs:\n",
    "            if SP[i,j] > 0:\n",
    "                rdict[(i,j)] = [SP[i,j]]\n",
    "            else:\n",
    "                r,c,b = locator(i,j)\n",
    "                Sr = extract_coors(r)\n",
    "                Sc = extract_coors(c)\n",
    "                Sb = extract_coors(b)\n",
    "                Br = [SP[u,v] for u,v in Sr if SP[u,v]>0]\n",
    "                Bc = [SP[u,v] for u,v in Sc if SP[u,v]>0]\n",
    "                Bb = [SP[u,v] for u,v in Sb if SP[u,v]>0]\n",
    "                K = [x for x in A if x not in np.union1d(np.union1d(Br,Bc),Bb)]\n",
    "                rdict[(i,j)] = K\n",
    "        #IM is a sub-dict of rdict which contains only those positions\n",
    "        #where less than or equal to 3 digits are possible.\n",
    "        IM = {}\n",
    "        for i,j in combs:\n",
    "            if SP[i,j] == 0:\n",
    "                if len(rdict[(i,j)]) <= 3:\n",
    "                    IM[(i,j)] = rdict[(i,j)]\n",
    "        #possible_assignments contains all the possible arrangements of possible digits (stored in IM)\n",
    "        #to the positions\n",
    "        possible_assignments = []\n",
    "        for l in itertools.product(*list(IM.values())):\n",
    "            possible_assignments.append(l)\n",
    "        #for each possible assignment, solve the board and output the first solvable board\n",
    "        if len(possible_assignments) < 100000:\n",
    "            stop = 0\n",
    "            l = 0\n",
    "            while stop == 0:\n",
    "                SP2 = SP.copy()\n",
    "                k = 0\n",
    "                for i,j in IM:\n",
    "                    SP2[i,j] = possible_assignments[l][k]\n",
    "                    k = k+1\n",
    "                ans = solve_sudoku(SP2)\n",
    "                if isinstance(ans,str)==False:\n",
    "                    if check_a_board(ans):\n",
    "                        stop = 1\n",
    "                l = l+1\n",
    "                if l >= len(possible_assignments):\n",
    "                    stop = 1\n",
    "            print(l)\n",
    "            if l < len(possible_assignments):\n",
    "                nr_of_non_visibles = 81 - nr_of_visibles\n",
    "                pos_to_zeros = [combs[x] for x in np.random.choice(range(len(combs)),\n",
    "                                                                   size=nr_of_non_visibles,replace=False)]\n",
    "                for i,j in pos_to_zeros:\n",
    "                    ans[i,j] = 0\n",
    "                stp=1\n",
    "                #print(stp)\n",
    "    return ans"
   ]
  },
  {
   "cell_type": "code",
   "execution_count": 34,
   "id": "e00fbc96",
   "metadata": {},
   "outputs": [
    {
     "name": "stdout",
     "output_type": "stream",
     "text": [
      "0\n",
      "0\n",
      "0\n",
      "0\n",
      "2480\n"
     ]
    },
    {
     "data": {
      "text/plain": [
       "array([[1., 5., 0., 6., 0., 7., 9., 3., 0.],\n",
       "       [9., 0., 0., 0., 0., 8., 0., 4., 5.],\n",
       "       [0., 0., 0., 0., 0., 5., 8., 0., 0.],\n",
       "       [0., 0., 0., 0., 8., 6., 0., 2., 0.],\n",
       "       [0., 9., 2., 5., 7., 0., 3., 0., 6.],\n",
       "       [6., 0., 0., 0., 9., 3., 0., 0., 0.],\n",
       "       [0., 0., 0., 0., 0., 0., 0., 0., 0.],\n",
       "       [0., 3., 0., 0., 0., 0., 0., 0., 0.],\n",
       "       [0., 6., 0., 0., 0., 0., 2., 0., 0.]])"
      ]
     },
     "execution_count": 34,
     "metadata": {},
     "output_type": "execute_result"
    }
   ],
   "source": [
    "gen_a_board(27)"
   ]
  }
 ],
 "metadata": {
  "kernelspec": {
   "display_name": "Python 3 (ipykernel)",
   "language": "python",
   "name": "python3"
  },
  "language_info": {
   "codemirror_mode": {
    "name": "ipython",
    "version": 3
   },
   "file_extension": ".py",
   "mimetype": "text/x-python",
   "name": "python",
   "nbconvert_exporter": "python",
   "pygments_lexer": "ipython3",
   "version": "3.10.9"
  }
 },
 "nbformat": 4,
 "nbformat_minor": 5
}
